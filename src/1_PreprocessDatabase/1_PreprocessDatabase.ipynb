{
 "cells": [
  {
   "cell_type": "markdown",
   "metadata": {},
   "source": [
    "# Final Project Degree\n",
    "\n",
    "## Prediction of cardiovascular and bleeding events in patients with double antiaggregation with machine learning models.\n",
    "\n",
    "##### Pablo Pérez Sánchez\n",
    "---\n",
    "\n",
    "# 1. Preprocess Database"
   ]
  },
  {
   "cell_type": "markdown",
   "metadata": {},
   "source": [
    "---\n",
    "**Import libarys**"
   ]
  },
  {
   "cell_type": "code",
   "execution_count": 1,
   "metadata": {},
   "outputs": [
    {
     "name": "stdout",
     "output_type": "stream",
     "text": [
      "Populating the interactive namespace from numpy and matplotlib\n"
     ]
    }
   ],
   "source": [
    "import pandas as pd\n",
    "import numpy as np\n",
    "import matplotlib.pyplot as plt\n",
    "\n",
    "%pylab inline"
   ]
  },
  {
   "cell_type": "markdown",
   "metadata": {},
   "source": [
    "---\n",
    "**Import data**"
   ]
  },
  {
   "cell_type": "code",
   "execution_count": 2,
   "metadata": {},
   "outputs": [],
   "source": [
    "df = pd.read_excel('../../data/PACS_DAPT_completo.xlsx')"
   ]
  },
  {
   "cell_type": "code",
   "execution_count": 3,
   "metadata": {},
   "outputs": [],
   "source": [
    "# df.head()"
   ]
  },
  {
   "cell_type": "markdown",
   "metadata": {},
   "source": [
    "---\n",
    "**Preprocess Database**\n",
    "\n",
    "1. We pass on the categorical variables to a binary classification.\n",
    "\n",
    "2. Create a new variable \"IMC\".\n",
    "\n",
    "3. Create two new variables from LVEFgroups.\n",
    "\n",
    "4. Set the bleeding and reinflation times well in the \"Vigo_Arritxaca\" register.\n",
    "\n",
    "5. Create new variables that classified infarction/bleeding at 6 months, 12 months and 24 months.\n"
   ]
  },
  {
   "cell_type": "markdown",
   "metadata": {},
   "source": [
    "---\n",
    "**1. We pass on the categorical variables to a binary classification.**\n",
    "\n",
    "\"Female\" = 1 / \"Male\" = 2  \n",
    "\"No\" = 0 / \"Yes\" = 1"
   ]
  },
  {
   "cell_type": "code",
   "execution_count": 4,
   "metadata": {},
   "outputs": [],
   "source": [
    "# Variables that need to be changed\n",
    "\n",
    "replace_vars = ['Sex','Diabetes', 'Hypertension', 'Dyslipemia', 'PeripheralArteryDisease', 'PriorMyocardialInfarction',\n",
    "                'PriorPCI', 'PriorCABG', 'PriorStroke', 'Cancer', 'Prior_Bleeding', 'STEMI', 'UnstableAngina',\n",
    "                'Killip2orMore', 'Femoral_Access', 'Multivessel', 'DrugElutingStent', 'Revascularization_Complete',\n",
    "                'ReAMI_inhospital', 'Bleeding_inhospital', 'Transfusion_IH', 'Clopidogrel', 'Ticagrelor', 'Prasugrel',\n",
    "                'OralAnticoagulation', 'Betablockers', 'ACEI_ARB', 'Statin', 'Death', 'ReInfarction','Bleeding', 'Transfusion']\n",
    "\n",
    "# create a dictionary with the changes\n",
    "dic = {'Female': 1, 'Male': 2, 'Yes': 1, 'No': 0, np.nan:np.nan,'NaN':np.nan, 1:1, 0:0}"
   ]
  },
  {
   "cell_type": "code",
   "execution_count": 5,
   "metadata": {},
   "outputs": [],
   "source": [
    "# Do the change\n",
    "for i in replace_vars:\n",
    "    #print(i)\n",
    "    df[i] = df[i].apply(lambda x:dic[x])"
   ]
  },
  {
   "attachments": {
    "image.png": {
     "image/png": "[encoded data removed]"
    }
   },
   "cell_type": "markdown",
   "metadata": {},
   "source": [
    "---\n",
    "\n",
    "**2. Create a new variable \"IMC\"**\n",
    "\n",
    "![image.png](attachment:image.png \"IMC = Peso(kg)/Talla(m)^2\")\n",
    "\n",
    "- Bleemacs: No \"talla\" no \"peso\".\n",
    "- Renami: Talla = IMC.\n",
    "- Vigo_Arritxaca: Peso y Talla, calculate IMC\n",
    "\n",
    "Before making changes, have several patients with inconsistent data in the database."
   ]
  },
  {
   "cell_type": "code",
   "execution_count": 6,
   "metadata": {},
   "outputs": [
    {
     "data": {
      "text/plain": [
       "(25, 2)"
      ]
     },
     "execution_count": 6,
     "metadata": {},
     "output_type": "execute_result"
    }
   ],
   "source": [
    "df.loc[(df['Registro']=='Vigo_Arritxaca') & (df['Talla']<100), ['Id','Talla']].shape"
   ]
  },
  {
   "cell_type": "markdown",
   "metadata": {},
   "source": [
    "We have 25 patients where \"Talla\" is less than 100 cm:\n",
    "  - 20 patients with Talla: -1\n",
    "  - 3 patients with Talla: 1\n",
    "  - 1 patients with Talla: 0\n",
    "  - 1 patients with Talla: 19 \n",
    "  \n",
    "Replace them with the average?"
   ]
  },
  {
   "cell_type": "code",
   "execution_count": 7,
   "metadata": {},
   "outputs": [],
   "source": [
    "# calculate IMC:\n",
    "# - BLEEMACS haven't talla and peso\n",
    "\n",
    "# - RENAMI the talla is equal to IMC\n",
    "df['IMC'] = df.loc[df['Registro']=='RENAMI', 'Talla']\n",
    "\n",
    "# - Vigo_Arritxaca calculate it without putting in values less than 100cm\n",
    "df['IMC'] = df.loc[(df['Registro']=='Vigo_Arritxaca') & (df['Talla']>100), 'Peso'] / ((df.loc[(df['Registro']=='Vigo_Arritxaca') & (df['Talla']>100), 'Talla']/100) * (df.loc[(df['Registro']=='Vigo_Arritxaca') & (df['Talla']>100), 'Talla']/100))"
   ]
  },
  {
   "cell_type": "code",
   "execution_count": 8,
   "metadata": {},
   "outputs": [],
   "source": [
    "# The 24 patients with \"Talla\" = (-1, 0, 1), are replaced by the average.\n",
    "IMC_media_Vigo = df.loc[(df['Registro']=='Vigo_Arritxaca') & (df['Talla']>100), 'IMC'].mean()\n",
    "\n",
    "df.loc[(df['Registro']=='Vigo_Arritxaca') & (df['Talla']==-1) ,'IMC'] = IMC_media_Vigo\n",
    "df.loc[(df['Registro']=='Vigo_Arritxaca') & (df['Talla']==0) ,'IMC'] = IMC_media_Vigo\n",
    "df.loc[(df['Registro']=='Vigo_Arritxaca') & (df['Talla']==1) ,'IMC'] = IMC_media_Vigo\n",
    "df.loc[df['Id']==24445,'IMC'] = IMC_media_Vigo\n",
    "\n",
    "# # El paciente con Id: 24445 tiene Talla = 19, la sustituimos por Talla = 190\n",
    "# df.loc[df['Id']==24445,'Talla'] = 190"
   ]
  },
  {
   "cell_type": "markdown",
   "metadata": {},
   "source": [
    "---\n",
    "\n",
    "**3. Create two new variables from LVEFgroups.**\n",
    "\n",
    "From \"LVEFgroups\" we get the variables: \"LVEFless40\", \"LVEFless50\" and \"LVEFafter50\"."
   ]
  },
  {
   "cell_type": "code",
   "execution_count": 9,
   "metadata": {},
   "outputs": [],
   "source": [
    "# Create two new columns equivalent to LVEFless40\n",
    "df['LVEFless50'] = 0\n",
    "df['LVEFafter50'] = 0\n",
    "\n",
    "df.loc[~(df['LVEFgroups']=='LVEF 40-49'),'LVEFless50'] = 1\n",
    "\n",
    "# df.loc[~(df['LVEFgroups']=='LVEF > 50'),'LVEFless50'] = 1 # Si queremos hacerlo de manera escalonada\n",
    "df.loc[~(df['LVEFgroups']=='LVEF > 50'),'LVEFafter50'] = 1"
   ]
  },
  {
   "attachments": {
    "image.png": {
     "image/png": "[encoded data removed]"
    }
   },
   "cell_type": "markdown",
   "metadata": {},
   "source": [
    "---\n",
    "\n",
    "**4. Set the bleeding and reinflation times well in the \"Vigo_Arritxaca\" register.**\n",
    "\n",
    "I'll use \"event\" to refer to reinfarction or bleeding  \n",
    "**LengthDapt_months \"**: medication time, time from discharge to the next event.  \n",
    "**Months_reAMI \"**: reinfarction time, time from the first heart attack to the second.  \n",
    "**Months_Bleeding \"**: time of bleeding, time from first infarct to bleeding.  \n",
    "\n",
    "After any event the medication is changed.\n",
    "\n",
    "Example:  \n",
    "![image.png](attachment:image.png)\n",
    "\n",
    "After reinfarction, the medication is changed, so the bleeding is no longer valid.  \n",
    "We must set the time of measurement equal to the time of reinfarction."
   ]
  },
  {
   "cell_type": "markdown",
   "metadata": {},
   "source": [
    "**create two new variables: \"ReInfarctionDapt\", \"ReInfarctionAfterDapt\", \"BleedingDapt\" and \"BleedinfAfterDapt\" in order to be able to perform a study during medication and after medication**\n",
    "\n",
    "It will be necessary to change the functions created below and make new ones."
   ]
  },
  {
   "cell_type": "code",
   "execution_count": 10,
   "metadata": {},
   "outputs": [],
   "source": [
    "# Create a function to establish the medication times in Vigo_Arritxaca\n",
    "\n",
    "def tiempoDapt(x):\n",
    "    if x['Registro']=='Vigo_Arritxaca':\n",
    "        x['LengthDapt_months'] = 0.5 + x['LengthDapt_months']\n",
    "    return x['LengthDapt_months']\n",
    "\n",
    "df['LengthDapt_months'] = df.apply(tiempoDapt, axis = 1)"
   ]
  },
  {
   "cell_type": "code",
   "execution_count": 11,
   "metadata": {},
   "outputs": [],
   "source": [
    "# Create different functions and then clean up the basis for more than one event.\n",
    "\n",
    "# With this function we change the status of whether or not the patient has bled\n",
    "def sangradoFalso(x):\n",
    "    if x['Bleeding']==1 and x['ReInfarction'] == 1 and x['Months_reAMI'] < x['Months_Bleeding']:\n",
    "        x['Bleeding'] = 0\n",
    "    return x['Bleeding']\n",
    "\n",
    "# With this function we change the state of whether or not the patient has suffered another heart attack\n",
    "def reamiFalso(x):\n",
    "    if x['Bleeding']==1 and x['ReInfarction'] == 1 and x['Months_Bleeding'] < x['Months_reAMI']:\n",
    "        x['ReInfarction'] = 0\n",
    "    return x['ReInfarction']"
   ]
  },
  {
   "cell_type": "code",
   "execution_count": 12,
   "metadata": {},
   "outputs": [
    {
     "name": "stdout",
     "output_type": "stream",
     "text": [
      "Wall time: 2.89 s\n"
     ]
    }
   ],
   "source": [
    "%%time\n",
    "# Run the entire functions in our database\n",
    "\n",
    "df['Bleeding'] = df.apply(sangradoFalso, axis = 1)\n",
    "df['ReInfarction']= df.apply(reamiFalso, axis = 1)"
   ]
  },
  {
   "cell_type": "code",
   "execution_count": 13,
   "metadata": {},
   "outputs": [],
   "source": [
    "# Create different functions for the creation of new variables of the events during and after medication\n",
    "\n",
    "# With this function we see if the patient has bled during the medication\n",
    "def sangradoDapt(x):\n",
    "    if x['Bleeding']==1 and x['LengthDapt_months'] >= x['Months_Bleeding']:\n",
    "        x['BleedingDapt'] = 1\n",
    "    return x['BleedingDapt']\n",
    "# With this function we see if the patient has bled after medication\n",
    "def sangradoAfterDapt(x):\n",
    "    if x['Bleeding']==1 and x['LengthDapt_months'] < x['Months_Bleeding']:\n",
    "        x['BleedinfAfterDapt'] = 1\n",
    "    return x['BleedinfAfterDapt']\n",
    "\n",
    "\n",
    "# With this function we see if the patient has suffered another heart attack during medication\n",
    "def reamiDapt(x):\n",
    "    if x['ReInfarction'] == 1 and x['LengthDapt_months'] >= x['Months_reAMI']:\n",
    "        x['ReInfarctionDapt'] = 1\n",
    "    return x['ReInfarctionDapt']\n",
    "# With this function we see if the patient has suffered another heart attack after medication\n",
    "def reamiAfterDapt(x):\n",
    "    if x['ReInfarction'] == 1 and x['LengthDapt_months'] < x['Months_reAMI']:\n",
    "        x['ReInfarctionAfterDapt'] = 1\n",
    "    return x['ReInfarctionAfterDapt']"
   ]
  },
  {
   "cell_type": "code",
   "execution_count": 14,
   "metadata": {},
   "outputs": [
    {
     "name": "stdout",
     "output_type": "stream",
     "text": [
      "Wall time: 3.95 s\n"
     ]
    }
   ],
   "source": [
    "%%time\n",
    "df['BleedingDapt'] = 0\n",
    "df['BleedinfAfterDapt'] = 0\n",
    "df['ReInfarctionDapt'] = 0\n",
    "df['ReInfarctionAfterDapt'] = 0\n",
    "\n",
    "# We run the entire functions in our database\n",
    "df['BleedingDapt'] = df.apply(sangradoDapt, axis = 1)\n",
    "df['BleedinfAfterDapt'] = df.apply(sangradoAfterDapt, axis = 1)\n",
    "df['ReInfarctionDapt']= df.apply(reamiDapt, axis = 1)\n",
    "df['ReInfarctionAfterDapt']= df.apply(reamiAfterDapt, axis = 1)"
   ]
  },
  {
   "cell_type": "markdown",
   "metadata": {},
   "source": [
    "---\n",
    "\n",
    "**5. Create new variables that classified infarction/bleeding at 6 months, 12 months and 24 months.**"
   ]
  },
  {
   "cell_type": "code",
   "execution_count": 15,
   "metadata": {},
   "outputs": [],
   "source": [
    "# WHILE THE MEDICATION\n",
    "# Create a new variable, to study if he had a heart attack or bleeding before the age of 6 months.\n",
    "df['reAMIless6Dapt'] = 0\n",
    "df.loc[(df['Months_reAMI'] <= 6) & (df['ReInfarctionDapt']==1), 'reAMIless6Dapt'] = 1\n",
    "\n",
    "df['bleedingless6Dapt'] = 0\n",
    "df.loc[(df['Months_Bleeding'] <= 6) & (df['BleedingDapt']==1), 'bleedingless6Dapt'] = 1\n",
    "\n",
    "# Create a new variable, to study if he had a heart attack or bleeding before the age of 12 months\n",
    "df['reAMIless12Dapt'] = 0\n",
    "df.loc[(df['Months_reAMI'] <= 12) & (df['ReInfarctionDapt']==1), 'reAMIless12Dapt'] = 1\n",
    "\n",
    "df['bleedingless12Dapt'] = 0\n",
    "df.loc[(df['Months_Bleeding'] <= 12) & (df['BleedingDapt']==1), 'bleedingless12Dapt'] = 1\n",
    "\n",
    "# Create a new variable, to study if he had a heart attack or bleeding before the age of 24 months\n",
    "df['reAMIless24Dapt'] = 0\n",
    "df.loc[(df['Months_reAMI'] <= 24) & (df['ReInfarctionDapt']==1), 'reAMIless24Dapt'] = 1\n",
    "\n",
    "df['bleedingless24Dapt'] = 0\n",
    "df.loc[(df['Months_Bleeding'] <= 24) & (df['BleedingDapt']==1), 'bleedingless24Dapt'] = 1"
   ]
  },
  {
   "cell_type": "markdown",
   "metadata": {},
   "source": [
    "Since the study will be performed during medication, it is not necessary to run the following block of commands"
   ]
  },
  {
   "cell_type": "code",
   "execution_count": 16,
   "metadata": {},
   "outputs": [],
   "source": [
    "# # Creamos una nueva variable, para estududiar si tuvo infarto o sangrado antes de los 6 meses.\n",
    "# df['reAMIless6'] = 0\n",
    "# df.loc[(df['Months_reAMI'] <= 6) & (df['ReInfarction']==1), 'reAMIless6'] = 1\n",
    "\n",
    "# df['bleedingless6'] = 0\n",
    "# df.loc[(df['Months_Bleeding'] <= 6) & (df['Bleeding']==1), 'bleedingless6'] = 1\n",
    "\n",
    "# # Creamos una nueva variable, para estududiar si tuvo infarto o sangrado antes de los 12 meses.\n",
    "# df['reAMIless12'] = 0\n",
    "# df.loc[(df['Months_reAMI'] <= 12) & (df['ReInfarction']==1), 'reAMIless12'] = 1\n",
    "\n",
    "# df['bleedingless12'] = 0\n",
    "# df.loc[(df['Months_Bleeding'] <= 12) & (df['Bleeding']==1), 'bleedingless12'] = 1\n",
    "\n",
    "# # Creamos una nueva variable, para estududiar si tuvo infarto o sangrado antes de los 24 meses.\n",
    "# df['reAMIless24'] = 0\n",
    "# df.loc[(df['Months_reAMI'] <= 24) & (df['ReInfarction']==1), 'reAMIless24'] = 1\n",
    "\n",
    "# df['bleedingless24'] = 0\n",
    "# df.loc[(df['Months_Bleeding'] <= 24) & (df['Bleeding']==1), 'bleedingless24'] = 1"
   ]
  },
  {
   "cell_type": "markdown",
   "metadata": {},
   "source": [
    "---\n",
    "**Export Preprocess Database**"
   ]
  },
  {
   "cell_type": "code",
   "execution_count": 17,
   "metadata": {},
   "outputs": [],
   "source": [
    "# df.to_excel('../../data/PACS_DAPT_preprocess.xlsx')\n",
    "df.to_csv('../../data/PACS_DAPT_preprocess.csv')"
   ]
  }
 ],
 "metadata": {
  "kernelspec": {
   "display_name": "Python 3",
   "language": "python",
   "name": "python3"
  },
  "language_info": {
   "codemirror_mode": {
    "name": "ipython",
    "version": 3
   },
   "file_extension": ".py",
   "mimetype": "text/x-python",
   "name": "python",
   "nbconvert_exporter": "python",
   "pygments_lexer": "ipython3",
   "version": "3.7.6"
  }
 },
 "nbformat": 4,
 "nbformat_minor": 4
}
